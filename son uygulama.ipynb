{
 "cells": [
  {
   "cell_type": "code",
   "execution_count": 1,
   "id": "moving-stopping",
   "metadata": {},
   "outputs": [],
   "source": [
    "import pandas as pd\n",
    "import re\n",
    "from textblob import TextBlob\n",
    "import matplotlib.pyplot as plt\n",
    "import numpy as np\n",
    "import itertools\n",
    "import collections\n",
    "import nltk\n",
    "from nltk import bigrams\n",
    "import networkx as nx"
   ]
  },
  {
   "cell_type": "code",
   "execution_count": 3,
   "id": "438cc562",
   "metadata": {},
   "outputs": [],
   "source": [
    "df = pd.read_excel(\"./tweets-en.xlsx\")"
   ]
  },
  {
   "cell_type": "code",
   "execution_count": 5,
   "id": "83e8337f",
   "metadata": {},
   "outputs": [],
   "source": [
    "df.to_csv(\"tweets-en.csv\")"
   ]
  },
  {
   "cell_type": "code",
   "execution_count": 6,
   "id": "necessary-variation",
   "metadata": {},
   "outputs": [
    {
     "name": "stdout",
     "output_type": "stream",
     "text": [
      "     Unnamed: 0                                              tweet\n",
      "0             0  Dalam Cop-27 di mesir, Indonesia Menampilkan K...\n",
      "1             1  With global trade wars and global terrorism, a...\n",
      "2             2  #The last part of the #iygundekügünde is “Anth...\n",
      "3             3  Damp Yang Paling Berbahaya Iteu Bukan Climate ...\n",
      "4             4  @Havaforum, but this is a tropical climate? It...\n",
      "..          ...                                                ...\n",
      "198         198  Points Mahani Menyoroti Soal Krisis Pangan Ene...\n",
      "199         199  I think that the climate activists throwing to...\n",
      "200         200  While the horses of the capital owners in the ...\n",
      "201         201  naya di lawan wkwkwwk ketawa aja dah https://t...\n",
      "202         202  Anjayyy anjayy anjayyyyyyyyyyyyyyyyyyyyyyyyyyy...\n",
      "\n",
      "[203 rows x 2 columns]\n"
     ]
    },
    {
     "name": "stderr",
     "output_type": "stream",
     "text": [
      "C:\\Users\\alone\\AppData\\Local\\Temp\\ipykernel_17680\\1640088183.py:1: FutureWarning: The error_bad_lines argument has been deprecated and will be removed in a future version. Use on_bad_lines in the future.\n",
      "\n",
      "\n",
      "  tweets = pd.read_csv('C:/Users/alone/dilisleme/tweets-en.csv', engine=\"python\", sep=',', quotechar='\"', error_bad_lines=False)\n"
     ]
    }
   ],
   "source": [
    "tweets = pd.read_csv('C:/Users/alone/dilisleme/tweets-en.csv', engine=\"python\", sep=',', quotechar='\"', error_bad_lines=False)\n",
    "print(tweets)"
   ]
  },
  {
   "cell_type": "code",
   "execution_count": 7,
   "id": "frozen-experience",
   "metadata": {},
   "outputs": [
    {
     "name": "stdout",
     "output_type": "stream",
     "text": [
      "0      [Dalam Cop-27 di mesir,  Indonesia Menampilkan...\n",
      "1      [With global trade wars and global terrorism, ...\n",
      "2      [#The last part of the #iygundekügünde is “Ant...\n",
      "3      [Damp Yang Paling Berbahaya Iteu Bukan Climate...\n",
      "4      [@Havaforum,  but this is a tropical climate? ...\n",
      "                             ...                        \n",
      "198    [Points Mahani Menyoroti Soal Krisis Pangan En...\n",
      "199    [I think that the climate activists throwing t...\n",
      "200    [While the horses of the capital owners in the...\n",
      "201    [naya di lawan wkwkwwk ketawa aja dah https://...\n",
      "202    [Anjayyy anjayy anjayyyyyyyyyyyyyyyyyyyyyyyyyy...\n",
      "Name: tweet, Length: 203, dtype: object\n"
     ]
    }
   ],
   "source": [
    "tweet= tweets[\"tweet\"].str.split(',')\n",
    "print (tweet)"
   ]
  },
  {
   "cell_type": "code",
   "execution_count": 8,
   "id": "blessed-memorial",
   "metadata": {},
   "outputs": [],
   "source": [
    "#urel kaldırma\n",
    "\n",
    "def remove_url(txt):\n",
    "    \"\"\"Replace URLs found in a text string with nothing \n",
    "    (i.e. it will remove the URL from the string).\n",
    "\n",
    "    Parameters\n",
    "    ----------\n",
    "    txt : string\n",
    "        A text string that you want to parse and remove urls.\n",
    "\n",
    "    Returns\n",
    "    -------\n",
    "    The same txt string with url's removed.\n",
    "    \"\"\"\n",
    "\n",
    "    return \" \".join(re.sub(\"([^0-9A-Za-z \\t])|(\\w+:\\/\\/\\S+)\", \"\", str(txt)).split())"
   ]
  },
  {
   "cell_type": "code",
   "execution_count": 9,
   "id": "interracial-knight",
   "metadata": {},
   "outputs": [
    {
     "data": {
      "text/plain": [
       "['Dalam Cop27 di mesir Indonesia Menampilkan Kebijakan from Hasil Nyata Kerja Serta Membuka Jalan Divine Ambali Climate Table Depan Bersama Sejumlah Pihak',\n",
       " 'With global trade wars and global terrorism a new world order is being established Migration energy climate crises income distribution inequality and combating poverty we go through a test as humanity',\n",
       " 'The last part of the iygundekgnde is AnthropocenennIn this section guests are discussing the discussions around denizbayram and fotibenlisoy around the concept and the possibilities of climatic justicen',\n",
       " 'Damp Yang Paling Berbahaya Iteu Bukan Climate Tapi System Capitalism Dengan Economy LiberalnyannmbutvofficialnnEconomiliberalnDakwahperubahannSlamkaffahnbanggamengadimuslim',\n",
       " 'Havaforum but this is a tropical climate It is absolutely abnormal to see a hose in Turkey']"
      ]
     },
     "execution_count": 9,
     "metadata": {},
     "output_type": "execute_result"
    }
   ],
   "source": [
    "#url kaldırılmış halini çağırma\n",
    "\n",
    "all_tweets_no_urls = [remove_url(tweet) for tweet in tweet]\n",
    "all_tweets_no_urls[:5]"
   ]
  },
  {
   "cell_type": "code",
   "execution_count": 10,
   "id": "intimate-buddy",
   "metadata": {},
   "outputs": [
    {
     "data": {
      "text/plain": [
       "(0.0,\n",
       " TextBlob(\"Dalam Cop27 di mesir Indonesia Menampilkan Kebijakan from Hasil Nyata Kerja Serta Membuka Jalan Divine Ambali Climate Table Depan Bersama Sejumlah Pihak\"))"
      ]
     },
     "execution_count": 10,
     "metadata": {},
     "output_type": "execute_result"
    }
   ],
   "source": [
    "# Create textblob objects of the tweets\n",
    "sentiment_objects = [TextBlob(tweet) for tweet in all_tweets_no_urls]\n",
    "\n",
    "sentiment_objects[0].polarity, sentiment_objects[0]"
   ]
  },
  {
   "cell_type": "code",
   "execution_count": 11,
   "id": "intelligent-principal",
   "metadata": {},
   "outputs": [
    {
     "data": {
      "text/plain": [
       "[0.0,\n",
       " 'Dalam Cop27 di mesir Indonesia Menampilkan Kebijakan from Hasil Nyata Kerja Serta Membuka Jalan Divine Ambali Climate Table Depan Bersama Sejumlah Pihak']"
      ]
     },
     "execution_count": 11,
     "metadata": {},
     "output_type": "execute_result"
    }
   ],
   "source": [
    "# Create list of polarity valuesx and tweet text\n",
    "sentiment_values = [[tweet.sentiment.polarity, str(tweet)] for tweet in sentiment_objects]\n",
    "\n",
    "sentiment_values[0]"
   ]
  },
  {
   "cell_type": "code",
   "execution_count": 12,
   "id": "moved-ordinance",
   "metadata": {},
   "outputs": [
    {
     "data": {
      "text/html": [
       "<div>\n",
       "<style scoped>\n",
       "    .dataframe tbody tr th:only-of-type {\n",
       "        vertical-align: middle;\n",
       "    }\n",
       "\n",
       "    .dataframe tbody tr th {\n",
       "        vertical-align: top;\n",
       "    }\n",
       "\n",
       "    .dataframe thead th {\n",
       "        text-align: right;\n",
       "    }\n",
       "</style>\n",
       "<table border=\"1\" class=\"dataframe\">\n",
       "  <thead>\n",
       "    <tr style=\"text-align: right;\">\n",
       "      <th></th>\n",
       "      <th>polarity</th>\n",
       "      <th>tweet</th>\n",
       "    </tr>\n",
       "  </thead>\n",
       "  <tbody>\n",
       "    <tr>\n",
       "      <th>0</th>\n",
       "      <td>0.000000</td>\n",
       "      <td>Dalam Cop27 di mesir Indonesia Menampilkan Keb...</td>\n",
       "    </tr>\n",
       "    <tr>\n",
       "      <th>1</th>\n",
       "      <td>0.045455</td>\n",
       "      <td>With global trade wars and global terrorism a ...</td>\n",
       "    </tr>\n",
       "    <tr>\n",
       "      <th>2</th>\n",
       "      <td>0.000000</td>\n",
       "      <td>The last part of the iygundekgnde is Anthropoc...</td>\n",
       "    </tr>\n",
       "    <tr>\n",
       "      <th>3</th>\n",
       "      <td>0.000000</td>\n",
       "      <td>Damp Yang Paling Berbahaya Iteu Bukan Climate ...</td>\n",
       "    </tr>\n",
       "    <tr>\n",
       "      <th>4</th>\n",
       "      <td>0.200000</td>\n",
       "      <td>Havaforum but this is a tropical climate It is...</td>\n",
       "    </tr>\n",
       "    <tr>\n",
       "      <th>5</th>\n",
       "      <td>0.000000</td>\n",
       "      <td>Pakistan will be looking for climate justice a...</td>\n",
       "    </tr>\n",
       "    <tr>\n",
       "      <th>6</th>\n",
       "      <td>0.000000</td>\n",
       "      <td>Iklim Sheila Bila Kau Terluka aku Pun Tersika</td>\n",
       "    </tr>\n",
       "    <tr>\n",
       "      <th>7</th>\n",
       "      <td>0.000000</td>\n",
       "      <td>8 KANWL KANWL KANENKUMHAM SULSEL SUPRAPTO SAMP...</td>\n",
       "    </tr>\n",
       "    <tr>\n",
       "      <th>8</th>\n",
       "      <td>0.800000</td>\n",
       "      <td>Participating in the United Nations Climate Ch...</td>\n",
       "    </tr>\n",
       "    <tr>\n",
       "      <th>9</th>\n",
       "      <td>0.000000</td>\n",
       "      <td>Desa tanggap perfebahaan</td>\n",
       "    </tr>\n",
       "    <tr>\n",
       "      <th>10</th>\n",
       "      <td>0.000000</td>\n",
       "      <td>Convomfs Sebulan Bisa Sakit Ragang Tenggorokan...</td>\n",
       "    </tr>\n",
       "    <tr>\n",
       "      <th>11</th>\n",
       "      <td>0.250000</td>\n",
       "      <td>veroaktivis gagaknew Chana karena demo sambil ...</td>\n",
       "    </tr>\n",
       "    <tr>\n",
       "      <th>12</th>\n",
       "      <td>0.000000</td>\n",
       "      <td>dwmdn kucing Korea beda yaaa bolt tebelaran mu...</td>\n",
       "    </tr>\n",
       "    <tr>\n",
       "      <th>13</th>\n",
       "      <td>0.300000</td>\n",
       "      <td>Onontweets in Turkey as a much superior place ...</td>\n",
       "    </tr>\n",
       "    <tr>\n",
       "      <th>14</th>\n",
       "      <td>0.250000</td>\n",
       "      <td>First time climate activists</td>\n",
       "    </tr>\n",
       "  </tbody>\n",
       "</table>\n",
       "</div>"
      ],
      "text/plain": [
       "    polarity                                              tweet\n",
       "0   0.000000  Dalam Cop27 di mesir Indonesia Menampilkan Keb...\n",
       "1   0.045455  With global trade wars and global terrorism a ...\n",
       "2   0.000000  The last part of the iygundekgnde is Anthropoc...\n",
       "3   0.000000  Damp Yang Paling Berbahaya Iteu Bukan Climate ...\n",
       "4   0.200000  Havaforum but this is a tropical climate It is...\n",
       "5   0.000000  Pakistan will be looking for climate justice a...\n",
       "6   0.000000      Iklim Sheila Bila Kau Terluka aku Pun Tersika\n",
       "7   0.000000  8 KANWL KANWL KANENKUMHAM SULSEL SUPRAPTO SAMP...\n",
       "8   0.800000  Participating in the United Nations Climate Ch...\n",
       "9   0.000000                           Desa tanggap perfebahaan\n",
       "10  0.000000  Convomfs Sebulan Bisa Sakit Ragang Tenggorokan...\n",
       "11  0.250000  veroaktivis gagaknew Chana karena demo sambil ...\n",
       "12  0.000000  dwmdn kucing Korea beda yaaa bolt tebelaran mu...\n",
       "13  0.300000  Onontweets in Turkey as a much superior place ...\n",
       "14  0.250000                       First time climate activists"
      ]
     },
     "execution_count": 12,
     "metadata": {},
     "output_type": "execute_result"
    }
   ],
   "source": [
    "# Create dataframe containing the polarity value and tweet text\n",
    "sentiment_df = pd.DataFrame(sentiment_values, columns=[\"polarity\", \"tweet\"])\n",
    "\n",
    "sentiment_df.head(15)"
   ]
  },
  {
   "cell_type": "code",
   "execution_count": 13,
   "id": "billion-valentine",
   "metadata": {},
   "outputs": [
    {
     "data": {
      "image/png": "[encoded data removed]",
      "text/plain": [
       "<Figure size 800x600 with 1 Axes>"
      ]
     },
     "metadata": {},
     "output_type": "display_data"
    }
   ],
   "source": [
    "fig, ax = plt.subplots(figsize=(8, 6))\n",
    "\n",
    "# Plot histogram of the polarity values\n",
    "sentiment_df.hist(bins=[-1, -0.75, -0.5, -0.25, 0.25, 0.5, 0.75, 1],\n",
    "             ax=ax,\n",
    "             color=\"purple\")\n",
    "\n",
    "plt.title(\"Sentiments from Tweets on Month\")\n",
    "plt.show()"
   ]
  },
  {
   "cell_type": "code",
   "execution_count": 14,
   "id": "unauthorized-cisco",
   "metadata": {},
   "outputs": [],
   "source": [
    "# Remove polarity values equal to zero\n",
    "sentiment_df = sentiment_df[sentiment_df.polarity != 0]"
   ]
  },
  {
   "cell_type": "code",
   "execution_count": 15,
   "id": "atmospheric-automation",
   "metadata": {},
   "outputs": [
    {
     "data": {
      "image/png": "[encoded data removed]",
      "text/plain": [
       "<Figure size 800x600 with 1 Axes>"
      ]
     },
     "metadata": {},
     "output_type": "display_data"
    }
   ],
   "source": [
    "fig, ax = plt.subplots(figsize=(8, 6))\n",
    "\n",
    "# Plot histogram with break at zero\n",
    "sentiment_df.hist(bins=[-1, -0.75, -0.5, -0.25, 0.0, 0.25, 0.5, 0.75, 1],\n",
    "             ax=ax,\n",
    "             color=\"purple\")\n",
    "\n",
    "plt.title(\"Aylık atılan tweetlerin duygu analizi\")\n",
    "plt.show()\n",
    "\n",
    "#BURAYI AL"
   ]
  },
  {
   "cell_type": "code",
   "execution_count": 16,
   "id": "dense-stationery",
   "metadata": {},
   "outputs": [
    {
     "data": {
      "text/html": [
       "<div>\n",
       "<style scoped>\n",
       "    .dataframe tbody tr th:only-of-type {\n",
       "        vertical-align: middle;\n",
       "    }\n",
       "\n",
       "    .dataframe tbody tr th {\n",
       "        vertical-align: top;\n",
       "    }\n",
       "\n",
       "    .dataframe thead th {\n",
       "        text-align: right;\n",
       "    }\n",
       "</style>\n",
       "<table border=\"1\" class=\"dataframe\">\n",
       "  <thead>\n",
       "    <tr style=\"text-align: right;\">\n",
       "      <th></th>\n",
       "      <th>polarity</th>\n",
       "      <th>tweet</th>\n",
       "    </tr>\n",
       "  </thead>\n",
       "  <tbody>\n",
       "    <tr>\n",
       "      <th>1</th>\n",
       "      <td>0.045455</td>\n",
       "      <td>With global trade wars and global terrorism a ...</td>\n",
       "    </tr>\n",
       "    <tr>\n",
       "      <th>4</th>\n",
       "      <td>0.200000</td>\n",
       "      <td>Havaforum but this is a tropical climate It is...</td>\n",
       "    </tr>\n",
       "    <tr>\n",
       "      <th>8</th>\n",
       "      <td>0.800000</td>\n",
       "      <td>Participating in the United Nations Climate Ch...</td>\n",
       "    </tr>\n",
       "    <tr>\n",
       "      <th>11</th>\n",
       "      <td>0.250000</td>\n",
       "      <td>veroaktivis gagaknew Chana karena demo sambil ...</td>\n",
       "    </tr>\n",
       "    <tr>\n",
       "      <th>13</th>\n",
       "      <td>0.300000</td>\n",
       "      <td>Onontweets in Turkey as a much superior place ...</td>\n",
       "    </tr>\n",
       "    <tr>\n",
       "      <th>...</th>\n",
       "      <td>...</td>\n",
       "      <td>...</td>\n",
       "    </tr>\n",
       "    <tr>\n",
       "      <th>187</th>\n",
       "      <td>0.300000</td>\n",
       "      <td>At the UN Climate Summit issues such as reduci...</td>\n",
       "    </tr>\n",
       "    <tr>\n",
       "      <th>194</th>\n",
       "      <td>0.100000</td>\n",
       "      <td>My asset offers seven climates to my geographyn</td>\n",
       "    </tr>\n",
       "    <tr>\n",
       "      <th>196</th>\n",
       "      <td>0.025000</td>\n",
       "      <td>Germany In Munich 12 climatic activists will b...</td>\n",
       "    </tr>\n",
       "    <tr>\n",
       "      <th>199</th>\n",
       "      <td>0.366667</td>\n",
       "      <td>I think that the climate activists throwing to...</td>\n",
       "    </tr>\n",
       "    <tr>\n",
       "      <th>200</th>\n",
       "      <td>0.012500</td>\n",
       "      <td>While the horses of the capital owners in the ...</td>\n",
       "    </tr>\n",
       "  </tbody>\n",
       "</table>\n",
       "<p>63 rows × 2 columns</p>\n",
       "</div>"
      ],
      "text/plain": [
       "     polarity                                              tweet\n",
       "1    0.045455  With global trade wars and global terrorism a ...\n",
       "4    0.200000  Havaforum but this is a tropical climate It is...\n",
       "8    0.800000  Participating in the United Nations Climate Ch...\n",
       "11   0.250000  veroaktivis gagaknew Chana karena demo sambil ...\n",
       "13   0.300000  Onontweets in Turkey as a much superior place ...\n",
       "..        ...                                                ...\n",
       "187  0.300000  At the UN Climate Summit issues such as reduci...\n",
       "194  0.100000    My asset offers seven climates to my geographyn\n",
       "196  0.025000  Germany In Munich 12 climatic activists will b...\n",
       "199  0.366667  I think that the climate activists throwing to...\n",
       "200  0.012500  While the horses of the capital owners in the ...\n",
       "\n",
       "[63 rows x 2 columns]"
      ]
     },
     "execution_count": 16,
     "metadata": {},
     "output_type": "execute_result"
    }
   ],
   "source": [
    "# Remove polarity values equal to zero\n",
    "pos_df =sentiment_df[sentiment_df.polarity > 0]\n",
    "pos_df"
   ]
  },
  {
   "cell_type": "code",
   "execution_count": 17,
   "id": "provincial-router",
   "metadata": {},
   "outputs": [
    {
     "name": "stdout",
     "output_type": "stream",
     "text": [
      "0.25842137359994505\n"
     ]
    }
   ],
   "source": [
    "print(np.average(pos_df['polarity'])) #BURAYI AL"
   ]
  },
  {
   "cell_type": "code",
   "execution_count": 18,
   "id": "black-promotion",
   "metadata": {},
   "outputs": [
    {
     "name": "stdout",
     "output_type": "stream",
     "text": [
      "1      [With global trade wars and global terrorism a...\n",
      "4      [Havaforum but this is a tropical climate It i...\n",
      "8      [Participating in the United Nations Climate C...\n",
      "11     [veroaktivis gagaknew Chana karena demo sambil...\n",
      "13     [Onontweets in Turkey as a much superior place...\n",
      "                             ...                        \n",
      "187    [At the UN Climate Summit issues such as reduc...\n",
      "194    [My asset offers seven climates to my geographyn]\n",
      "196    [Germany In Munich 12 climatic activists will ...\n",
      "199    [I think that the climate activists throwing t...\n",
      "200    [While the horses of the capital owners in the...\n",
      "Name: tweet, Length: 63, dtype: object\n"
     ]
    }
   ],
   "source": [
    "pos_tweet= pos_df[\"tweet\"].str.split(',')\n",
    "print (pos_tweet)"
   ]
  },
  {
   "cell_type": "code",
   "execution_count": 19,
   "id": "satisfactory-genome",
   "metadata": {},
   "outputs": [],
   "source": [
    "#urel kaldırma\n",
    "\n",
    "def remove_url(txt):\n",
    "    \"\"\"Replace URLs found in a text string with nothing \n",
    "    (i.e. it will remove the URL from the string).\n",
    "\n",
    "    Parameters\n",
    "    ----------\n",
    "    txt : string\n",
    "        A text string that you want to parse and remove urls.\n",
    "\n",
    "    Returns\n",
    "    -------\n",
    "    The same txt string with url's removed.\n",
    "    \"\"\"\n",
    "\n",
    "    return \" \".join(re.sub(\"([^0-9A-Za-z \\t])|(\\w+:\\/\\/\\S+)\", \"\", str(txt)).split())"
   ]
  },
  {
   "cell_type": "code",
   "execution_count": 20,
   "id": "fewer-education",
   "metadata": {},
   "outputs": [
    {
     "data": {
      "text/plain": [
       "['With global trade wars and global terrorism a new world order is being established Migration energy climate crises income distribution inequality and combating poverty we go through a test as humanity',\n",
       " 'Havaforum but this is a tropical climate It is absolutely abnormal to see a hose in Turkey',\n",
       " 'Participating in the United Nations Climate Change Conference the running level Kerembresin always makes us proud of what you do man',\n",
       " 'veroaktivis gagaknew Chana karena demo sambil ibadah lebih baik daripada demo sambil minimum legacy ata narkoba bukkan artinya bisa ibadah sesukanya itu logical fallacynibadah jg island aturannya negara lain mikirin hidup di planet lain perfebahan climate Disini aja masih demo2 gak gelas',\n",
       " 'Onontweets in Turkey as a much superior place in the position and climate this golden geography sinks in our hands as it deserves as you deserve to shine like the sun']"
      ]
     },
     "execution_count": 20,
     "metadata": {},
     "output_type": "execute_result"
    }
   ],
   "source": [
    "#url kaldırılmış halini çağırma\n",
    "\n",
    "pos_all_tweets_no_urls = [remove_url(tweet) for tweet in pos_tweet]\n",
    "pos_all_tweets_no_urls[:5]"
   ]
  },
  {
   "cell_type": "code",
   "execution_count": 21,
   "id": "earlier-cinema",
   "metadata": {},
   "outputs": [
    {
     "data": {
      "text/plain": [
       "[['with',\n",
       "  'global',\n",
       "  'trade',\n",
       "  'wars',\n",
       "  'and',\n",
       "  'global',\n",
       "  'terrorism',\n",
       "  'a',\n",
       "  'new',\n",
       "  'world',\n",
       "  'order',\n",
       "  'is',\n",
       "  'being',\n",
       "  'established',\n",
       "  'migration',\n",
       "  'energy',\n",
       "  'climate',\n",
       "  'crises',\n",
       "  'income',\n",
       "  'distribution',\n",
       "  'inequality',\n",
       "  'and',\n",
       "  'combating',\n",
       "  'poverty',\n",
       "  'we',\n",
       "  'go',\n",
       "  'through',\n",
       "  'a',\n",
       "  'test',\n",
       "  'as',\n",
       "  'humanity'],\n",
       " ['havaforum',\n",
       "  'but',\n",
       "  'this',\n",
       "  'is',\n",
       "  'a',\n",
       "  'tropical',\n",
       "  'climate',\n",
       "  'it',\n",
       "  'is',\n",
       "  'absolutely',\n",
       "  'abnormal',\n",
       "  'to',\n",
       "  'see',\n",
       "  'a',\n",
       "  'hose',\n",
       "  'in',\n",
       "  'turkey']]"
      ]
     },
     "execution_count": 21,
     "metadata": {},
     "output_type": "execute_result"
    }
   ],
   "source": [
    "# Create a list of lists containing lowercase words for each tweet; url olmadan küçük harflere ayırma #tokenizer\n",
    "pos_words_in_tweet = [tweet.lower().split() for tweet in pos_all_tweets_no_urls]\n",
    "pos_words_in_tweet[:2]"
   ]
  },
  {
   "cell_type": "code",
   "execution_count": 22,
   "id": "stunning-participant",
   "metadata": {},
   "outputs": [
    {
     "data": {
      "text/plain": [
       "[('the', 111),\n",
       " ('climate', 56),\n",
       " ('in', 54),\n",
       " ('of', 36),\n",
       " ('a', 35),\n",
       " ('to', 35),\n",
       " ('and', 31),\n",
       " ('be', 23),\n",
       " ('is', 18),\n",
       " ('as', 18),\n",
       " ('should', 14),\n",
       " ('are', 14),\n",
       " ('it', 13),\n",
       " ('that', 13),\n",
       " ('activists', 12)]"
      ]
     },
     "execution_count": 22,
     "metadata": {},
     "output_type": "execute_result"
    }
   ],
   "source": [
    "# List of all words across tweets; kelimelerin sayılması\n",
    "pos_all_words_no_urls = list(itertools.chain(*pos_words_in_tweet))\n",
    "\n",
    "# Create counter\n",
    "counts_no_urls = collections.Counter(pos_all_words_no_urls)\n",
    "\n",
    "counts_no_urls.most_common(15)"
   ]
  },
  {
   "cell_type": "code",
   "execution_count": 23,
   "id": "prostate-pencil",
   "metadata": {},
   "outputs": [
    {
     "name": "stderr",
     "output_type": "stream",
     "text": [
      "[nltk_data] Downloading package stopwords to\n",
      "[nltk_data]     C:\\Users\\alone\\AppData\\Roaming\\nltk_data...\n",
      "[nltk_data]   Package stopwords is already up-to-date!\n"
     ]
    },
    {
     "data": {
      "text/plain": [
       "True"
      ]
     },
     "execution_count": 23,
     "metadata": {},
     "output_type": "execute_result"
    }
   ],
   "source": [
    "nltk.download('stopwords')"
   ]
  },
  {
   "cell_type": "code",
   "execution_count": 24,
   "id": "marine-dominican",
   "metadata": {},
   "outputs": [
    {
     "data": {
      "text/plain": [
       "['those', 'own', 'just', 'hasn', 'was', 'we', 'yours', 'they', 'them', \"isn't\"]"
      ]
     },
     "execution_count": 24,
     "metadata": {},
     "output_type": "execute_result"
    }
   ],
   "source": [
    "#var olanların gösterimi\n",
    "from nltk.corpus import stopwords\n",
    "pos_stop_words = set(stopwords.words('english'))\n",
    "\n",
    "# View a few words from the set\n",
    "list(pos_stop_words)[0:10]"
   ]
  },
  {
   "cell_type": "code",
   "execution_count": 25,
   "id": "living-battle",
   "metadata": {},
   "outputs": [
    {
     "data": {
      "text/plain": [
       "['global',\n",
       " 'trade',\n",
       " 'wars',\n",
       " 'global',\n",
       " 'terrorism',\n",
       " 'new',\n",
       " 'world',\n",
       " 'order',\n",
       " 'established',\n",
       " 'migration',\n",
       " 'energy',\n",
       " 'climate',\n",
       " 'crises',\n",
       " 'income',\n",
       " 'distribution',\n",
       " 'inequality',\n",
       " 'combating',\n",
       " 'poverty',\n",
       " 'go',\n",
       " 'test',\n",
       " 'humanity']"
      ]
     },
     "execution_count": 25,
     "metadata": {},
     "output_type": "execute_result"
    }
   ],
   "source": [
    "# Remove stop words from each tweet list of words; kaldırılmış durumu\n",
    "pos_tweets_nsw = [[word for word in tweet_words if not word in pos_stop_words]\n",
    "              for tweet_words in pos_words_in_tweet]\n",
    "\n",
    "pos_tweets_nsw[0]"
   ]
  },
  {
   "cell_type": "code",
   "execution_count": 26,
   "id": "stock-nursery",
   "metadata": {},
   "outputs": [
    {
     "data": {
      "text/plain": [
       "[('climate', 56),\n",
       " ('activists', 12),\n",
       " ('summit', 11),\n",
       " ('change', 10),\n",
       " ('climatic', 10),\n",
       " ('think', 10),\n",
       " ('world', 9),\n",
       " ('countries', 9),\n",
       " ('get', 8),\n",
       " ('un', 8),\n",
       " ('turkey', 7),\n",
       " ('air', 7),\n",
       " ('order', 6),\n",
       " ('like', 6),\n",
       " ('plan', 6)]"
      ]
     },
     "execution_count": 26,
     "metadata": {},
     "output_type": "execute_result"
    }
   ],
   "source": [
    "#çok kullanılanlara tekrar bakılırsa\n",
    "pos_all_words_nsw = list(itertools.chain(*pos_tweets_nsw))\n",
    "\n",
    "pos_counts_nsw = collections.Counter(pos_all_words_nsw)\n",
    "\n",
    "pos_counts_nsw.most_common(15)"
   ]
  },
  {
   "cell_type": "code",
   "execution_count": 27,
   "id": "proper-rhythm",
   "metadata": {},
   "outputs": [
    {
     "data": {
      "image/png": "[encoded data removed]",
      "text/plain": [
       "<Figure size 800x800 with 1 Axes>"
      ]
     },
     "metadata": {},
     "output_type": "display_data"
    }
   ],
   "source": [
    "#görselleştirme\n",
    "pos_clean_tweets_nsw = pd.DataFrame(pos_counts_nsw.most_common(15),\n",
    "                             columns=['words', 'count'])\n",
    "\n",
    "fig, ax = plt.subplots(figsize=(8, 8))\n",
    "\n",
    "# Plot horizontal bar graph\n",
    "pos_clean_tweets_nsw.sort_values(by='count').plot.barh(x='words',\n",
    "                      y='count',\n",
    "                      ax=ax,\n",
    "                      color=\"purple\")\n",
    "\n",
    "ax.set_title(\"Common Words Found in Tweets (Without Stop Words)\")\n",
    "\n",
    "plt.show()"
   ]
  },
  {
   "cell_type": "code",
   "execution_count": 32,
   "id": "unusual-secret",
   "metadata": {},
   "outputs": [
    {
     "data": {
      "text/plain": [
       "['global',\n",
       " 'trade',\n",
       " 'wars',\n",
       " 'global',\n",
       " 'terrorism',\n",
       " 'new',\n",
       " 'world',\n",
       " 'order',\n",
       " 'established',\n",
       " 'migration',\n",
       " 'energy',\n",
       " 'climate',\n",
       " 'crises',\n",
       " 'income',\n",
       " 'distribution',\n",
       " 'inequality',\n",
       " 'combating',\n",
       " 'poverty',\n",
       " 'go',\n",
       " 'test',\n",
       " 'humanity']"
      ]
     },
     "execution_count": 32,
     "metadata": {},
     "output_type": "execute_result"
    }
   ],
   "source": [
    "#arama kelimesinin kaldırılması\n",
    "\n",
    "pos_collection_words = ['climate', 'change', 'climatic' ]\n",
    "pos_tweets_nsw_nc = [[w for w in word if not w in pos_collection_words]\n",
    "                 for word in pos_tweets_nsw]\n",
    "pos_tweets_nsw[0]"
   ]
  },
  {
   "cell_type": "code",
   "execution_count": 33,
   "id": "accompanied-notice",
   "metadata": {},
   "outputs": [
    {
     "data": {
      "text/plain": [
       "[('activists', 12),\n",
       " ('summit', 11),\n",
       " ('think', 10),\n",
       " ('world', 9),\n",
       " ('countries', 9),\n",
       " ('get', 8),\n",
       " ('un', 8),\n",
       " ('turkey', 7),\n",
       " ('air', 7),\n",
       " ('order', 6),\n",
       " ('like', 6),\n",
       " ('plan', 6),\n",
       " ('conditions', 6),\n",
       " ('india', 6),\n",
       " ('many', 6)]"
      ]
     },
     "execution_count": 33,
     "metadata": {},
     "output_type": "execute_result"
    }
   ],
   "source": [
    "# Flatten list of words in clean tweets    #BURAYI AL\n",
    "pos_all_words_nsw_nc = list(itertools.chain(*pos_tweets_nsw_nc))\n",
    "\n",
    "# Create counter of words in clean tweets\n",
    "pos_counts_nsw_nc = collections.Counter(pos_all_words_nsw_nc)\n",
    "\n",
    "pos_counts_nsw_nc.most_common(15)  "
   ]
  },
  {
   "cell_type": "code",
   "execution_count": 34,
   "id": "excess-drinking",
   "metadata": {},
   "outputs": [
    {
     "data": {
      "text/html": [
       "<div>\n",
       "<style scoped>\n",
       "    .dataframe tbody tr th:only-of-type {\n",
       "        vertical-align: middle;\n",
       "    }\n",
       "\n",
       "    .dataframe tbody tr th {\n",
       "        vertical-align: top;\n",
       "    }\n",
       "\n",
       "    .dataframe thead th {\n",
       "        text-align: right;\n",
       "    }\n",
       "</style>\n",
       "<table border=\"1\" class=\"dataframe\">\n",
       "  <thead>\n",
       "    <tr style=\"text-align: right;\">\n",
       "      <th></th>\n",
       "      <th>words</th>\n",
       "      <th>count</th>\n",
       "    </tr>\n",
       "  </thead>\n",
       "  <tbody>\n",
       "    <tr>\n",
       "      <th>0</th>\n",
       "      <td>activists</td>\n",
       "      <td>12</td>\n",
       "    </tr>\n",
       "    <tr>\n",
       "      <th>1</th>\n",
       "      <td>summit</td>\n",
       "      <td>11</td>\n",
       "    </tr>\n",
       "    <tr>\n",
       "      <th>2</th>\n",
       "      <td>think</td>\n",
       "      <td>10</td>\n",
       "    </tr>\n",
       "    <tr>\n",
       "      <th>3</th>\n",
       "      <td>world</td>\n",
       "      <td>9</td>\n",
       "    </tr>\n",
       "    <tr>\n",
       "      <th>4</th>\n",
       "      <td>countries</td>\n",
       "      <td>9</td>\n",
       "    </tr>\n",
       "  </tbody>\n",
       "</table>\n",
       "</div>"
      ],
      "text/plain": [
       "       words  count\n",
       "0  activists     12\n",
       "1     summit     11\n",
       "2      think     10\n",
       "3      world      9\n",
       "4  countries      9"
      ]
     },
     "execution_count": 34,
     "metadata": {},
     "output_type": "execute_result"
    }
   ],
   "source": [
    "pos_clean_tweets_ncw = pd.DataFrame(pos_counts_nsw_nc.most_common(15), # en fazla değişken kelime buradan değişir\n",
    "                             columns=['words', 'count'])\n",
    "pos_clean_tweets_ncw.head()"
   ]
  },
  {
   "cell_type": "code",
   "execution_count": 35,
   "id": "overall-biology",
   "metadata": {},
   "outputs": [
    {
     "data": {
      "image/png": "[encoded data removed]",
      "text/plain": [
       "<Figure size 800x800 with 1 Axes>"
      ]
     },
     "metadata": {},
     "output_type": "display_data"
    }
   ],
   "source": [
    "fig, ax = plt.subplots(figsize=(8, 8)) #çıktının boyutu \n",
    "\n",
    "# Plot horizontal bar graph\n",
    "pos_clean_tweets_ncw.sort_values(by='count').plot.barh(x='words',\n",
    "                      y='count',\n",
    "                      ax=ax,\n",
    "                      color=\"purple\")\n",
    "\n",
    "ax.set_title(\"Common Words Found in Tweets (Without Stop or Collection Words)\") #başlık\n",
    "\n",
    "plt.show()"
   ]
  },
  {
   "cell_type": "code",
   "execution_count": 36,
   "id": "altered-symphony",
   "metadata": {},
   "outputs": [
    {
     "data": {
      "text/plain": [
       "[('global', 'trade'),\n",
       " ('trade', 'wars'),\n",
       " ('wars', 'global'),\n",
       " ('global', 'terrorism'),\n",
       " ('terrorism', 'new'),\n",
       " ('new', 'world'),\n",
       " ('world', 'order'),\n",
       " ('order', 'established'),\n",
       " ('established', 'migration'),\n",
       " ('migration', 'energy'),\n",
       " ('energy', 'crises'),\n",
       " ('crises', 'income'),\n",
       " ('income', 'distribution'),\n",
       " ('distribution', 'inequality'),\n",
       " ('inequality', 'combating'),\n",
       " ('combating', 'poverty'),\n",
       " ('poverty', 'go'),\n",
       " ('go', 'test'),\n",
       " ('test', 'humanity')]"
      ]
     },
     "execution_count": 36,
     "metadata": {},
     "output_type": "execute_result"
    }
   ],
   "source": [
    "#Explore Co-occurring Words\n",
    "# Create list of lists containing bigrams in tweets\n",
    "pos_terms_bigram = [list(bigrams(tweet)) for tweet in pos_tweets_nsw_nc]\n",
    "\n",
    "# View bigrams for the first tweet\n",
    "pos_terms_bigram[0]"
   ]
  },
  {
   "cell_type": "code",
   "execution_count": 37,
   "id": "molecular-desperate",
   "metadata": {},
   "outputs": [
    {
     "data": {
      "text/plain": [
       "[(('un', 'summit'), 7),\n",
       " (('demo', 'sambil'), 4),\n",
       " (('order', 'get'), 4),\n",
       " (('get', 'rid'), 4),\n",
       " (('rid', 'fair'), 4),\n",
       " (('fair', 'transition'), 4),\n",
       " (('transition', 'plan'), 4),\n",
       " (('air', 'water'), 4),\n",
       " (('water', 'soil'), 4),\n",
       " (('dont', 'think'), 4),\n",
       " (('summit', 'issues'), 4),\n",
       " (('issues', 'reducing'), 4),\n",
       " (('reducing', 'greenhouse'), 4),\n",
       " (('greenhouse', 'gas'), 4),\n",
       " (('gas', 'emissions'), 4)]"
      ]
     },
     "execution_count": 37,
     "metadata": {},
     "output_type": "execute_result"
    }
   ],
   "source": [
    "# Flatten list of bigrams in clean tweets      BURAYI AL\n",
    "pos_bigrams = list(itertools.chain(*pos_terms_bigram))\n",
    "\n",
    "# Create counter of words in clean bigrams\n",
    "pos_bigram_counts = collections.Counter(pos_bigrams)\n",
    "\n",
    "pos_bigram_counts.most_common(15)"
   ]
  },
  {
   "cell_type": "code",
   "execution_count": 38,
   "id": "involved-phenomenon",
   "metadata": {},
   "outputs": [
    {
     "data": {
      "text/html": [
       "<div>\n",
       "<style scoped>\n",
       "    .dataframe tbody tr th:only-of-type {\n",
       "        vertical-align: middle;\n",
       "    }\n",
       "\n",
       "    .dataframe tbody tr th {\n",
       "        vertical-align: top;\n",
       "    }\n",
       "\n",
       "    .dataframe thead th {\n",
       "        text-align: right;\n",
       "    }\n",
       "</style>\n",
       "<table border=\"1\" class=\"dataframe\">\n",
       "  <thead>\n",
       "    <tr style=\"text-align: right;\">\n",
       "      <th></th>\n",
       "      <th>bigram</th>\n",
       "      <th>count</th>\n",
       "    </tr>\n",
       "  </thead>\n",
       "  <tbody>\n",
       "    <tr>\n",
       "      <th>0</th>\n",
       "      <td>(un, summit)</td>\n",
       "      <td>7</td>\n",
       "    </tr>\n",
       "    <tr>\n",
       "      <th>1</th>\n",
       "      <td>(demo, sambil)</td>\n",
       "      <td>4</td>\n",
       "    </tr>\n",
       "    <tr>\n",
       "      <th>2</th>\n",
       "      <td>(order, get)</td>\n",
       "      <td>4</td>\n",
       "    </tr>\n",
       "    <tr>\n",
       "      <th>3</th>\n",
       "      <td>(get, rid)</td>\n",
       "      <td>4</td>\n",
       "    </tr>\n",
       "    <tr>\n",
       "      <th>4</th>\n",
       "      <td>(rid, fair)</td>\n",
       "      <td>4</td>\n",
       "    </tr>\n",
       "    <tr>\n",
       "      <th>5</th>\n",
       "      <td>(fair, transition)</td>\n",
       "      <td>4</td>\n",
       "    </tr>\n",
       "    <tr>\n",
       "      <th>6</th>\n",
       "      <td>(transition, plan)</td>\n",
       "      <td>4</td>\n",
       "    </tr>\n",
       "    <tr>\n",
       "      <th>7</th>\n",
       "      <td>(air, water)</td>\n",
       "      <td>4</td>\n",
       "    </tr>\n",
       "    <tr>\n",
       "      <th>8</th>\n",
       "      <td>(water, soil)</td>\n",
       "      <td>4</td>\n",
       "    </tr>\n",
       "    <tr>\n",
       "      <th>9</th>\n",
       "      <td>(dont, think)</td>\n",
       "      <td>4</td>\n",
       "    </tr>\n",
       "    <tr>\n",
       "      <th>10</th>\n",
       "      <td>(summit, issues)</td>\n",
       "      <td>4</td>\n",
       "    </tr>\n",
       "    <tr>\n",
       "      <th>11</th>\n",
       "      <td>(issues, reducing)</td>\n",
       "      <td>4</td>\n",
       "    </tr>\n",
       "    <tr>\n",
       "      <th>12</th>\n",
       "      <td>(reducing, greenhouse)</td>\n",
       "      <td>4</td>\n",
       "    </tr>\n",
       "    <tr>\n",
       "      <th>13</th>\n",
       "      <td>(greenhouse, gas)</td>\n",
       "      <td>4</td>\n",
       "    </tr>\n",
       "    <tr>\n",
       "      <th>14</th>\n",
       "      <td>(gas, emissions)</td>\n",
       "      <td>4</td>\n",
       "    </tr>\n",
       "  </tbody>\n",
       "</table>\n",
       "</div>"
      ],
      "text/plain": [
       "                    bigram  count\n",
       "0             (un, summit)      7\n",
       "1           (demo, sambil)      4\n",
       "2             (order, get)      4\n",
       "3               (get, rid)      4\n",
       "4              (rid, fair)      4\n",
       "5       (fair, transition)      4\n",
       "6       (transition, plan)      4\n",
       "7             (air, water)      4\n",
       "8            (water, soil)      4\n",
       "9            (dont, think)      4\n",
       "10        (summit, issues)      4\n",
       "11      (issues, reducing)      4\n",
       "12  (reducing, greenhouse)      4\n",
       "13       (greenhouse, gas)      4\n",
       "14        (gas, emissions)      4"
      ]
     },
     "execution_count": 38,
     "metadata": {},
     "output_type": "execute_result"
    }
   ],
   "source": [
    "pos_bigram_df = pd.DataFrame(pos_bigram_counts.most_common(15),\n",
    "                             columns=['bigram', 'count'])\n",
    "\n",
    "pos_bigram_df"
   ]
  },
  {
   "cell_type": "code",
   "execution_count": 39,
   "id": "qualified-ribbon",
   "metadata": {},
   "outputs": [],
   "source": [
    "# Create dictionary of bigrams and their counts\n",
    "d = pos_bigram_df.set_index('bigram').T.to_dict('records')"
   ]
  },
  {
   "cell_type": "code",
   "execution_count": 40,
   "id": "floating-medline",
   "metadata": {},
   "outputs": [],
   "source": [
    "# Create network plot \n",
    "G = nx.Graph()\n",
    "\n",
    "# Create connections between nodes\n",
    "for k, v in d[0].items():\n",
    "    G.add_edge(k[0], k[1], weight=(v * 10))\n",
    "\n",
    "#G.add_node(\"china\", weight=100)"
   ]
  },
  {
   "cell_type": "code",
   "execution_count": 41,
   "id": "potential-graphic",
   "metadata": {},
   "outputs": [
    {
     "data": {
      "image/png": "[encoded data removed]",
      "text/plain": [
       "<Figure size 1000x800 with 1 Axes>"
      ]
     },
     "metadata": {},
     "output_type": "display_data"
    }
   ],
   "source": [
    "fig, ax = plt.subplots(figsize=(10, 8))\n",
    "\n",
    "pos = nx.spring_layout(G, k=2)\n",
    "\n",
    "# Plot networks\n",
    "nx.draw_networkx(G, pos,\n",
    "                 font_size=16,\n",
    "                 width=3,\n",
    "                 edge_color='grey',\n",
    "                 node_color='purple',\n",
    "                 with_labels = False,\n",
    "                 ax=ax)\n",
    "\n",
    "# Create offset labels\n",
    "for key, value in pos.items():\n",
    "    x, y = value[0]+.135, value[1]+.045\n",
    "    ax.text(x, y,\n",
    "            s=key,\n",
    "            bbox=dict(facecolor='red', alpha=0.25),\n",
    "            horizontalalignment='center', fontsize=13)\n",
    "    \n",
    "plt.show()\n",
    "\n",
    "#burayı al"
   ]
  },
  {
   "cell_type": "markdown",
   "id": "reserved-rainbow",
   "metadata": {},
   "source": [
    "# negatif uygulama "
   ]
  },
  {
   "cell_type": "code",
   "execution_count": 42,
   "id": "ongoing-compression",
   "metadata": {},
   "outputs": [
    {
     "data": {
      "text/html": [
       "<div>\n",
       "<style scoped>\n",
       "    .dataframe tbody tr th:only-of-type {\n",
       "        vertical-align: middle;\n",
       "    }\n",
       "\n",
       "    .dataframe tbody tr th {\n",
       "        vertical-align: top;\n",
       "    }\n",
       "\n",
       "    .dataframe thead th {\n",
       "        text-align: right;\n",
       "    }\n",
       "</style>\n",
       "<table border=\"1\" class=\"dataframe\">\n",
       "  <thead>\n",
       "    <tr style=\"text-align: right;\">\n",
       "      <th></th>\n",
       "      <th>polarity</th>\n",
       "      <th>tweet</th>\n",
       "    </tr>\n",
       "  </thead>\n",
       "  <tbody>\n",
       "    <tr>\n",
       "      <th>16</th>\n",
       "      <td>-0.034848</td>\n",
       "      <td>It is home to 172 different bird species 33 ma...</td>\n",
       "    </tr>\n",
       "    <tr>\n",
       "      <th>44</th>\n",
       "      <td>-0.150000</td>\n",
       "      <td>Bersama Delegate P20 Mbak Points Melakukan Pen...</td>\n",
       "    </tr>\n",
       "    <tr>\n",
       "      <th>47</th>\n",
       "      <td>-0.016667</td>\n",
       "      <td>herracer pistachoii I am writing last timenCan...</td>\n",
       "    </tr>\n",
       "    <tr>\n",
       "      <th>56</th>\n",
       "      <td>-0.044444</td>\n",
       "      <td>All of the actions and protests cannot go forw...</td>\n",
       "    </tr>\n",
       "    <tr>\n",
       "      <th>67</th>\n",
       "      <td>-0.300000</td>\n",
       "      <td>POINTS MANGATAKAN PANGATAKAN PANEL SURYA Di Co...</td>\n",
       "    </tr>\n",
       "    <tr>\n",
       "      <th>74</th>\n",
       "      <td>-0.068056</td>\n",
       "      <td>Due to the increasing greenhouse gas emission ...</td>\n",
       "    </tr>\n",
       "    <tr>\n",
       "      <th>93</th>\n",
       "      <td>-0.056818</td>\n",
       "      <td>In the past there was a bullshit called Greenp...</td>\n",
       "    </tr>\n",
       "    <tr>\n",
       "      <th>106</th>\n",
       "      <td>-0.050000</td>\n",
       "      <td>Kaanesekbann 10 000 million dogs and we are aw...</td>\n",
       "    </tr>\n",
       "    <tr>\n",
       "      <th>128</th>\n",
       "      <td>-0.034848</td>\n",
       "      <td>It is home to 172 different bird species 33 ma...</td>\n",
       "    </tr>\n",
       "    <tr>\n",
       "      <th>156</th>\n",
       "      <td>-0.150000</td>\n",
       "      <td>Bersama Delegate P20 Mbak Points Melakukan Pen...</td>\n",
       "    </tr>\n",
       "    <tr>\n",
       "      <th>159</th>\n",
       "      <td>-0.016667</td>\n",
       "      <td>herracer pistachoii I am writing last timenCan...</td>\n",
       "    </tr>\n",
       "    <tr>\n",
       "      <th>168</th>\n",
       "      <td>-0.044444</td>\n",
       "      <td>All of the actions and protests cannot go forw...</td>\n",
       "    </tr>\n",
       "    <tr>\n",
       "      <th>179</th>\n",
       "      <td>-0.300000</td>\n",
       "      <td>POINTS MANGATAKAN PANGATAKAN PANEL SURYA Di Co...</td>\n",
       "    </tr>\n",
       "    <tr>\n",
       "      <th>186</th>\n",
       "      <td>-0.068056</td>\n",
       "      <td>Due to the increasing greenhouse gas emission ...</td>\n",
       "    </tr>\n",
       "  </tbody>\n",
       "</table>\n",
       "</div>"
      ],
      "text/plain": [
       "     polarity                                              tweet\n",
       "16  -0.034848  It is home to 172 different bird species 33 ma...\n",
       "44  -0.150000  Bersama Delegate P20 Mbak Points Melakukan Pen...\n",
       "47  -0.016667  herracer pistachoii I am writing last timenCan...\n",
       "56  -0.044444  All of the actions and protests cannot go forw...\n",
       "67  -0.300000  POINTS MANGATAKAN PANGATAKAN PANEL SURYA Di Co...\n",
       "74  -0.068056  Due to the increasing greenhouse gas emission ...\n",
       "93  -0.056818  In the past there was a bullshit called Greenp...\n",
       "106 -0.050000  Kaanesekbann 10 000 million dogs and we are aw...\n",
       "128 -0.034848  It is home to 172 different bird species 33 ma...\n",
       "156 -0.150000  Bersama Delegate P20 Mbak Points Melakukan Pen...\n",
       "159 -0.016667  herracer pistachoii I am writing last timenCan...\n",
       "168 -0.044444  All of the actions and protests cannot go forw...\n",
       "179 -0.300000  POINTS MANGATAKAN PANGATAKAN PANEL SURYA Di Co...\n",
       "186 -0.068056  Due to the increasing greenhouse gas emission ..."
      ]
     },
     "execution_count": 42,
     "metadata": {},
     "output_type": "execute_result"
    }
   ],
   "source": [
    "# Remove polarity values equal to zero\n",
    "neg_df =sentiment_df[sentiment_df.polarity < 0]\n",
    "neg_df"
   ]
  },
  {
   "cell_type": "code",
   "execution_count": 43,
   "id": "premium-skating",
   "metadata": {},
   "outputs": [
    {
     "name": "stdout",
     "output_type": "stream",
     "text": [
      "-0.09534632034632036\n"
     ]
    }
   ],
   "source": [
    "print(np.average(neg_df['polarity'])) #burayı al"
   ]
  },
  {
   "cell_type": "code",
   "execution_count": 44,
   "id": "amino-youth",
   "metadata": {},
   "outputs": [
    {
     "name": "stdout",
     "output_type": "stream",
     "text": [
      "0.19409997470062407\n"
     ]
    }
   ],
   "source": [
    "print(np.average(sentiment_df['polarity'])) #genel ortalama"
   ]
  },
  {
   "cell_type": "code",
   "execution_count": 45,
   "id": "endless-commander",
   "metadata": {},
   "outputs": [
    {
     "name": "stdout",
     "output_type": "stream",
     "text": [
      "16     [It is home to 172 different bird species 33 m...\n",
      "44     [Bersama Delegate P20 Mbak Points Melakukan Pe...\n",
      "47     [herracer pistachoii I am writing last timenCa...\n",
      "56     [All of the actions and protests cannot go for...\n",
      "67     [POINTS MANGATAKAN PANGATAKAN PANEL SURYA Di C...\n",
      "74     [Due to the increasing greenhouse gas emission...\n",
      "93     [In the past there was a bullshit called Green...\n",
      "106    [Kaanesekbann 10 000 million dogs and we are a...\n",
      "128    [It is home to 172 different bird species 33 m...\n",
      "156    [Bersama Delegate P20 Mbak Points Melakukan Pe...\n",
      "159    [herracer pistachoii I am writing last timenCa...\n",
      "168    [All of the actions and protests cannot go for...\n",
      "179    [POINTS MANGATAKAN PANGATAKAN PANEL SURYA Di C...\n",
      "186    [Due to the increasing greenhouse gas emission...\n",
      "Name: tweet, dtype: object\n"
     ]
    }
   ],
   "source": [
    "neg_tweet= neg_df[\"tweet\"].str.split(',')\n",
    "print (neg_tweet)"
   ]
  },
  {
   "cell_type": "code",
   "execution_count": 46,
   "id": "innocent-stuff",
   "metadata": {},
   "outputs": [
    {
     "data": {
      "text/plain": [
       "['It is home to 172 different bird species 33 mammals and 15 lizards and reptiles Among these species are also exhausted creaturesnThis forest renovation had a very positive effects on the ecosystem and climate',\n",
       " 'Bersama Delegate P20 Mbak Points Melakukan Penanaman Pohon Di Complex Parliament Jakarta Opposite ini sekaligus menunjukkan committee Bersama Dalam Mengatasi Peroban Climate Krisis Pangan Dan Energi tetap score Capres',\n",
       " 'herracer pistachoii I am writing last timenCanada is not the only responsible for this incident but I throw it to understand that even Canada is affected by the climate crisis Capitalism is uncontrolled factories cars He is responsible for the climate crisis The smell comes from people who will burn from the heat in the future sorry',\n",
       " 'All of the actions and protests cannot go forward in the modern age just to vomit hate and to go further away from to have done action Nothing really is a solution oriented What has changed so far Especially climate and so on about enough to destroy the capitalist system',\n",
       " 'POINTS MANGATAKAN PANGATAKAN PANEL SURYA Di Complex Parliament Menjadi Committee Dewan Dalam UPAYA MenyeLamatkan Bumi Dari Ancaman Peroban Climate tetap score Capres']"
      ]
     },
     "execution_count": 46,
     "metadata": {},
     "output_type": "execute_result"
    }
   ],
   "source": [
    "#url kaldırılmış halini çağırma\n",
    "\n",
    "neg_all_tweets_no_urls = [remove_url(tweet) for tweet in neg_tweet]\n",
    "neg_all_tweets_no_urls[:5]\n"
   ]
  },
  {
   "cell_type": "code",
   "execution_count": 47,
   "id": "finnish-julian",
   "metadata": {},
   "outputs": [
    {
     "data": {
      "text/plain": [
       "[['it',\n",
       "  'is',\n",
       "  'home',\n",
       "  'to',\n",
       "  '172',\n",
       "  'different',\n",
       "  'bird',\n",
       "  'species',\n",
       "  '33',\n",
       "  'mammals',\n",
       "  'and',\n",
       "  '15',\n",
       "  'lizards',\n",
       "  'and',\n",
       "  'reptiles',\n",
       "  'among',\n",
       "  'these',\n",
       "  'species',\n",
       "  'are',\n",
       "  'also',\n",
       "  'exhausted',\n",
       "  'creaturesnthis',\n",
       "  'forest',\n",
       "  'renovation',\n",
       "  'had',\n",
       "  'a',\n",
       "  'very',\n",
       "  'positive',\n",
       "  'effects',\n",
       "  'on',\n",
       "  'the',\n",
       "  'ecosystem',\n",
       "  'and',\n",
       "  'climate'],\n",
       " ['bersama',\n",
       "  'delegate',\n",
       "  'p20',\n",
       "  'mbak',\n",
       "  'points',\n",
       "  'melakukan',\n",
       "  'penanaman',\n",
       "  'pohon',\n",
       "  'di',\n",
       "  'complex',\n",
       "  'parliament',\n",
       "  'jakarta',\n",
       "  'opposite',\n",
       "  'ini',\n",
       "  'sekaligus',\n",
       "  'menunjukkan',\n",
       "  'committee',\n",
       "  'bersama',\n",
       "  'dalam',\n",
       "  'mengatasi',\n",
       "  'peroban',\n",
       "  'climate',\n",
       "  'krisis',\n",
       "  'pangan',\n",
       "  'dan',\n",
       "  'energi',\n",
       "  'tetap',\n",
       "  'score',\n",
       "  'capres']]"
      ]
     },
     "execution_count": 47,
     "metadata": {},
     "output_type": "execute_result"
    }
   ],
   "source": [
    "# Create a list of lists containing lowercase words for each tweet; url olmadan küçük harflere ayırma #tokenizer\n",
    "neg_words_in_tweet = [tweet.lower().split() for tweet in neg_all_tweets_no_urls]\n",
    "neg_words_in_tweet[:2]\n"
   ]
  },
  {
   "cell_type": "code",
   "execution_count": 48,
   "id": "residential-pulse",
   "metadata": {},
   "outputs": [],
   "source": [
    "# List of all words across tweets; kelimelerin sayılması\n",
    "neg_all_words_no_urls = list(itertools.chain(*neg_words_in_tweet))\n"
   ]
  },
  {
   "cell_type": "code",
   "execution_count": 49,
   "id": "naval-mission",
   "metadata": {},
   "outputs": [
    {
     "data": {
      "text/plain": [
       "[('the', 38),\n",
       " ('to', 18),\n",
       " ('and', 16),\n",
       " ('climate', 15),\n",
       " ('is', 12),\n",
       " ('of', 9),\n",
       " ('in', 8),\n",
       " ('a', 6),\n",
       " ('from', 6),\n",
       " ('are', 5),\n",
       " ('it', 4),\n",
       " ('species', 4),\n",
       " ('on', 4),\n",
       " ('bersama', 4),\n",
       " ('points', 4)]"
      ]
     },
     "execution_count": 49,
     "metadata": {},
     "output_type": "execute_result"
    }
   ],
   "source": [
    "# Create counter\n",
    "counts_no_urls = collections.Counter(neg_all_words_no_urls)\n",
    "\n",
    "counts_no_urls.most_common(15)\n"
   ]
  },
  {
   "cell_type": "code",
   "execution_count": 50,
   "id": "naughty-geography",
   "metadata": {},
   "outputs": [
    {
     "data": {
      "text/plain": [
       "['those', 'own', 'just', 'hasn', 'was', 'we', 'yours', 'they', 'them', \"isn't\"]"
      ]
     },
     "execution_count": 50,
     "metadata": {},
     "output_type": "execute_result"
    }
   ],
   "source": [
    "#var olanların gösterimi\n",
    "from nltk.corpus import stopwords\n",
    "neg_stop_words = set(stopwords.words('english'))\n",
    "\n",
    "# View a few words from the set\n",
    "list(neg_stop_words)[0:10]\n"
   ]
  },
  {
   "cell_type": "code",
   "execution_count": 51,
   "id": "automated-hello",
   "metadata": {},
   "outputs": [
    {
     "data": {
      "text/plain": [
       "['home',\n",
       " '172',\n",
       " 'different',\n",
       " 'bird',\n",
       " 'species',\n",
       " '33',\n",
       " 'mammals',\n",
       " '15',\n",
       " 'lizards',\n",
       " 'reptiles',\n",
       " 'among',\n",
       " 'species',\n",
       " 'also',\n",
       " 'exhausted',\n",
       " 'creaturesnthis',\n",
       " 'forest',\n",
       " 'renovation',\n",
       " 'positive',\n",
       " 'effects',\n",
       " 'ecosystem',\n",
       " 'climate']"
      ]
     },
     "execution_count": 51,
     "metadata": {},
     "output_type": "execute_result"
    }
   ],
   "source": [
    "# Remove stop words from each tweet list of words; kaldırılmış durumu\n",
    "neg_tweets_nsw = [[word for word in tweet_words if not word in neg_stop_words]\n",
    "              for tweet_words in neg_words_in_tweet]\n",
    "\n",
    "neg_tweets_nsw[0]\n"
   ]
  },
  {
   "cell_type": "code",
   "execution_count": 52,
   "id": "finnish-swift",
   "metadata": {},
   "outputs": [
    {
     "data": {
      "text/plain": [
       "[('climate', 15),\n",
       " ('species', 4),\n",
       " ('bersama', 4),\n",
       " ('points', 4),\n",
       " ('di', 4),\n",
       " ('complex', 4),\n",
       " ('parliament', 4),\n",
       " ('committee', 4),\n",
       " ('dalam', 4),\n",
       " ('peroban', 4),\n",
       " ('tetap', 4),\n",
       " ('score', 4),\n",
       " ('capres', 4),\n",
       " ('last', 4),\n",
       " ('responsible', 4)]"
      ]
     },
     "execution_count": 52,
     "metadata": {},
     "output_type": "execute_result"
    }
   ],
   "source": [
    "#çok kullanılanlara tekrar bakılırsa\n",
    "neg_all_words_nsw = list(itertools.chain(*neg_tweets_nsw))\n",
    "\n",
    "neg_counts_nsw = collections.Counter(neg_all_words_nsw)\n",
    "\n",
    "neg_counts_nsw.most_common(15)\n"
   ]
  },
  {
   "cell_type": "code",
   "execution_count": 53,
   "id": "conscious-activation",
   "metadata": {},
   "outputs": [
    {
     "data": {
      "image/png": "[encoded data removed]",
      "text/plain": [
       "<Figure size 800x800 with 1 Axes>"
      ]
     },
     "metadata": {},
     "output_type": "display_data"
    }
   ],
   "source": [
    "\n",
    "#görselleştirme\n",
    "neg_clean_tweets_nsw = pd.DataFrame(neg_counts_nsw.most_common(15),\n",
    "                             columns=['words', 'count'])\n",
    "\n",
    "fig, ax = plt.subplots(figsize=(8, 8))\n",
    "\n",
    "# Plot horizontal bar graph\n",
    "neg_clean_tweets_nsw.sort_values(by='count').plot.barh(x='words',\n",
    "                      y='count',\n",
    "                      ax=ax,\n",
    "                      color=\"purple\")\n",
    "\n",
    "ax.set_title(\"Common Words Found in Tweets (Without Stop Words)\")\n",
    "\n",
    "plt.show()\n"
   ]
  },
  {
   "cell_type": "code",
   "execution_count": 54,
   "id": "alive-compound",
   "metadata": {},
   "outputs": [
    {
     "data": {
      "text/plain": [
       "['home',\n",
       " '172',\n",
       " 'different',\n",
       " 'bird',\n",
       " 'species',\n",
       " '33',\n",
       " 'mammals',\n",
       " '15',\n",
       " 'lizards',\n",
       " 'reptiles',\n",
       " 'among',\n",
       " 'species',\n",
       " 'also',\n",
       " 'exhausted',\n",
       " 'creaturesnthis',\n",
       " 'forest',\n",
       " 'renovation',\n",
       " 'positive',\n",
       " 'effects',\n",
       " 'ecosystem',\n",
       " 'climate']"
      ]
     },
     "execution_count": 54,
     "metadata": {},
     "output_type": "execute_result"
    }
   ],
   "source": [
    "#arama kelimesinin kaldırılması\n",
    "\n",
    "neg_collection_words = ['climate', 'change' ]\n",
    "neg_tweets_nsw_nc = [[w for w in word if not w in neg_collection_words]\n",
    "                 for word in neg_tweets_nsw]\n",
    "neg_tweets_nsw[0]\n"
   ]
  },
  {
   "cell_type": "code",
   "execution_count": 55,
   "id": "formal-architecture",
   "metadata": {},
   "outputs": [
    {
     "data": {
      "text/plain": [
       "[('species', 4),\n",
       " ('bersama', 4),\n",
       " ('points', 4),\n",
       " ('di', 4),\n",
       " ('complex', 4),\n",
       " ('parliament', 4),\n",
       " ('committee', 4),\n",
       " ('dalam', 4),\n",
       " ('peroban', 4),\n",
       " ('tetap', 4),\n",
       " ('score', 4),\n",
       " ('capres', 4),\n",
       " ('last', 4),\n",
       " ('responsible', 4),\n",
       " ('crisis', 4)]"
      ]
     },
     "execution_count": 55,
     "metadata": {},
     "output_type": "execute_result"
    }
   ],
   "source": [
    "# Flatten list of words in clean tweets Burayı al\n",
    "neg_all_words_nsw_nc = list(itertools.chain(*neg_tweets_nsw_nc))\n",
    "\n",
    "# Create counter of words in clean tweets\n",
    "neg_counts_nsw_nc = collections.Counter(neg_all_words_nsw_nc)\n",
    "\n",
    "neg_counts_nsw_nc.most_common(15)   \n"
   ]
  },
  {
   "cell_type": "code",
   "execution_count": 56,
   "id": "enabling-mayor",
   "metadata": {},
   "outputs": [
    {
     "data": {
      "text/html": [
       "<div>\n",
       "<style scoped>\n",
       "    .dataframe tbody tr th:only-of-type {\n",
       "        vertical-align: middle;\n",
       "    }\n",
       "\n",
       "    .dataframe tbody tr th {\n",
       "        vertical-align: top;\n",
       "    }\n",
       "\n",
       "    .dataframe thead th {\n",
       "        text-align: right;\n",
       "    }\n",
       "</style>\n",
       "<table border=\"1\" class=\"dataframe\">\n",
       "  <thead>\n",
       "    <tr style=\"text-align: right;\">\n",
       "      <th></th>\n",
       "      <th>words</th>\n",
       "      <th>count</th>\n",
       "    </tr>\n",
       "  </thead>\n",
       "  <tbody>\n",
       "    <tr>\n",
       "      <th>0</th>\n",
       "      <td>species</td>\n",
       "      <td>4</td>\n",
       "    </tr>\n",
       "    <tr>\n",
       "      <th>1</th>\n",
       "      <td>bersama</td>\n",
       "      <td>4</td>\n",
       "    </tr>\n",
       "    <tr>\n",
       "      <th>2</th>\n",
       "      <td>points</td>\n",
       "      <td>4</td>\n",
       "    </tr>\n",
       "    <tr>\n",
       "      <th>3</th>\n",
       "      <td>di</td>\n",
       "      <td>4</td>\n",
       "    </tr>\n",
       "    <tr>\n",
       "      <th>4</th>\n",
       "      <td>complex</td>\n",
       "      <td>4</td>\n",
       "    </tr>\n",
       "  </tbody>\n",
       "</table>\n",
       "</div>"
      ],
      "text/plain": [
       "     words  count\n",
       "0  species      4\n",
       "1  bersama      4\n",
       "2   points      4\n",
       "3       di      4\n",
       "4  complex      4"
      ]
     },
     "execution_count": 56,
     "metadata": {},
     "output_type": "execute_result"
    }
   ],
   "source": [
    "neg_clean_tweets_ncw = pd.DataFrame(neg_counts_nsw_nc.most_common(15), # en fazla değişken kelime buradan değişir\n",
    "                             columns=['words', 'count'])\n",
    "neg_clean_tweets_ncw.head()\n",
    "\n"
   ]
  },
  {
   "cell_type": "code",
   "execution_count": 57,
   "id": "pretty-agreement",
   "metadata": {},
   "outputs": [
    {
     "data": {
      "image/png": "[encoded data removed]",
      "text/plain": [
       "<Figure size 800x800 with 1 Axes>"
      ]
     },
     "metadata": {},
     "output_type": "display_data"
    }
   ],
   "source": [
    "fig, ax = plt.subplots(figsize=(8, 8)) #çıktının boyutu \n",
    "\n",
    "# Plot horizontal bar graph\n",
    "neg_clean_tweets_ncw.sort_values(by='count').plot.barh(x='words',\n",
    "                      y='count',\n",
    "                      ax=ax,\n",
    "                      color=\"purple\")\n",
    "\n",
    "ax.set_title(\"Common Words Found in Tweets (Without Stop or Collection Words)\") #başlık\n",
    "\n",
    "plt.show()\n"
   ]
  },
  {
   "cell_type": "code",
   "execution_count": 58,
   "id": "worst-calculator",
   "metadata": {},
   "outputs": [
    {
     "data": {
      "text/plain": [
       "[('home', '172'),\n",
       " ('172', 'different'),\n",
       " ('different', 'bird'),\n",
       " ('bird', 'species'),\n",
       " ('species', '33'),\n",
       " ('33', 'mammals'),\n",
       " ('mammals', '15'),\n",
       " ('15', 'lizards'),\n",
       " ('lizards', 'reptiles'),\n",
       " ('reptiles', 'among'),\n",
       " ('among', 'species'),\n",
       " ('species', 'also'),\n",
       " ('also', 'exhausted'),\n",
       " ('exhausted', 'creaturesnthis'),\n",
       " ('creaturesnthis', 'forest'),\n",
       " ('forest', 'renovation'),\n",
       " ('renovation', 'positive'),\n",
       " ('positive', 'effects'),\n",
       " ('effects', 'ecosystem')]"
      ]
     },
     "execution_count": 58,
     "metadata": {},
     "output_type": "execute_result"
    }
   ],
   "source": [
    "#Explore Co-occurring Words\n",
    "# Create list of lists containing bigrams in tweets\n",
    "neg_terms_bigram = [list(bigrams(tweet)) for tweet in neg_tweets_nsw_nc]\n",
    "\n",
    "# View bigrams for the first tweet\n",
    "neg_terms_bigram[0]\n"
   ]
  },
  {
   "cell_type": "code",
   "execution_count": 59,
   "id": "special-drilling",
   "metadata": {},
   "outputs": [
    {
     "data": {
      "text/plain": [
       "[(('di', 'complex'), 4),\n",
       " (('complex', 'parliament'), 4),\n",
       " (('tetap', 'score'), 4),\n",
       " (('score', 'capres'), 4),\n",
       " (('home', '172'), 2),\n",
       " (('172', 'different'), 2),\n",
       " (('different', 'bird'), 2),\n",
       " (('bird', 'species'), 2),\n",
       " (('species', '33'), 2),\n",
       " (('33', 'mammals'), 2),\n",
       " (('mammals', '15'), 2),\n",
       " (('15', 'lizards'), 2),\n",
       " (('lizards', 'reptiles'), 2),\n",
       " (('reptiles', 'among'), 2),\n",
       " (('among', 'species'), 2)]"
      ]
     },
     "execution_count": 59,
     "metadata": {},
     "output_type": "execute_result"
    }
   ],
   "source": [
    "# Flatten list of bigrams in clean tweets      BURAYI AL\n",
    "neg_bigrams = list(itertools.chain(*neg_terms_bigram))\n",
    "\n",
    "# Create counter of words in clean bigrams\n",
    "neg_bigram_counts = collections.Counter(neg_bigrams)\n",
    "\n",
    "neg_bigram_counts.most_common(15)\n"
   ]
  },
  {
   "cell_type": "code",
   "execution_count": 60,
   "id": "regulation-simpson",
   "metadata": {},
   "outputs": [
    {
     "data": {
      "text/html": [
       "<div>\n",
       "<style scoped>\n",
       "    .dataframe tbody tr th:only-of-type {\n",
       "        vertical-align: middle;\n",
       "    }\n",
       "\n",
       "    .dataframe tbody tr th {\n",
       "        vertical-align: top;\n",
       "    }\n",
       "\n",
       "    .dataframe thead th {\n",
       "        text-align: right;\n",
       "    }\n",
       "</style>\n",
       "<table border=\"1\" class=\"dataframe\">\n",
       "  <thead>\n",
       "    <tr style=\"text-align: right;\">\n",
       "      <th></th>\n",
       "      <th>bigram</th>\n",
       "      <th>count</th>\n",
       "    </tr>\n",
       "  </thead>\n",
       "  <tbody>\n",
       "    <tr>\n",
       "      <th>0</th>\n",
       "      <td>(di, complex)</td>\n",
       "      <td>4</td>\n",
       "    </tr>\n",
       "    <tr>\n",
       "      <th>1</th>\n",
       "      <td>(complex, parliament)</td>\n",
       "      <td>4</td>\n",
       "    </tr>\n",
       "    <tr>\n",
       "      <th>2</th>\n",
       "      <td>(tetap, score)</td>\n",
       "      <td>4</td>\n",
       "    </tr>\n",
       "    <tr>\n",
       "      <th>3</th>\n",
       "      <td>(score, capres)</td>\n",
       "      <td>4</td>\n",
       "    </tr>\n",
       "    <tr>\n",
       "      <th>4</th>\n",
       "      <td>(home, 172)</td>\n",
       "      <td>2</td>\n",
       "    </tr>\n",
       "    <tr>\n",
       "      <th>5</th>\n",
       "      <td>(172, different)</td>\n",
       "      <td>2</td>\n",
       "    </tr>\n",
       "    <tr>\n",
       "      <th>6</th>\n",
       "      <td>(different, bird)</td>\n",
       "      <td>2</td>\n",
       "    </tr>\n",
       "    <tr>\n",
       "      <th>7</th>\n",
       "      <td>(bird, species)</td>\n",
       "      <td>2</td>\n",
       "    </tr>\n",
       "    <tr>\n",
       "      <th>8</th>\n",
       "      <td>(species, 33)</td>\n",
       "      <td>2</td>\n",
       "    </tr>\n",
       "    <tr>\n",
       "      <th>9</th>\n",
       "      <td>(33, mammals)</td>\n",
       "      <td>2</td>\n",
       "    </tr>\n",
       "    <tr>\n",
       "      <th>10</th>\n",
       "      <td>(mammals, 15)</td>\n",
       "      <td>2</td>\n",
       "    </tr>\n",
       "    <tr>\n",
       "      <th>11</th>\n",
       "      <td>(15, lizards)</td>\n",
       "      <td>2</td>\n",
       "    </tr>\n",
       "    <tr>\n",
       "      <th>12</th>\n",
       "      <td>(lizards, reptiles)</td>\n",
       "      <td>2</td>\n",
       "    </tr>\n",
       "    <tr>\n",
       "      <th>13</th>\n",
       "      <td>(reptiles, among)</td>\n",
       "      <td>2</td>\n",
       "    </tr>\n",
       "    <tr>\n",
       "      <th>14</th>\n",
       "      <td>(among, species)</td>\n",
       "      <td>2</td>\n",
       "    </tr>\n",
       "  </tbody>\n",
       "</table>\n",
       "</div>"
      ],
      "text/plain": [
       "                   bigram  count\n",
       "0           (di, complex)      4\n",
       "1   (complex, parliament)      4\n",
       "2          (tetap, score)      4\n",
       "3         (score, capres)      4\n",
       "4             (home, 172)      2\n",
       "5        (172, different)      2\n",
       "6       (different, bird)      2\n",
       "7         (bird, species)      2\n",
       "8           (species, 33)      2\n",
       "9           (33, mammals)      2\n",
       "10          (mammals, 15)      2\n",
       "11          (15, lizards)      2\n",
       "12    (lizards, reptiles)      2\n",
       "13      (reptiles, among)      2\n",
       "14       (among, species)      2"
      ]
     },
     "execution_count": 60,
     "metadata": {},
     "output_type": "execute_result"
    }
   ],
   "source": [
    "neg_bigram_df = pd.DataFrame(neg_bigram_counts.most_common(15),\n",
    "                             columns=['bigram', 'count'])\n",
    "\n",
    "neg_bigram_df\n"
   ]
  },
  {
   "cell_type": "code",
   "execution_count": 61,
   "id": "wooden-bouquet",
   "metadata": {},
   "outputs": [],
   "source": [
    "# Create dictionary of bigrams and their counts\n",
    "d = neg_bigram_df.set_index('bigram').T.to_dict('records')\n"
   ]
  },
  {
   "cell_type": "code",
   "execution_count": 62,
   "id": "incomplete-aircraft",
   "metadata": {},
   "outputs": [],
   "source": [
    "# Create network plot \n",
    "G = nx.Graph()\n",
    "\n",
    "# Create connections between nodes\n",
    "for k, v in d[0].items():\n",
    "    G.add_edge(k[0], k[1], weight=(v * 10))\n",
    "\n",
    "#G.add_node(\"china\", weight=100)\n"
   ]
  },
  {
   "cell_type": "code",
   "execution_count": 63,
   "id": "promising-employer",
   "metadata": {},
   "outputs": [
    {
     "data": {
      "image/png": "[encoded data removed]",
      "text/plain": [
       "<Figure size 1000x800 with 1 Axes>"
      ]
     },
     "metadata": {},
     "output_type": "display_data"
    }
   ],
   "source": [
    "fig, ax = plt.subplots(figsize=(10, 8))\n",
    "\n",
    "pos = nx.spring_layout(G, k=2)\n",
    "\n",
    "# Plot networks\n",
    "nx.draw_networkx(G, pos,\n",
    "                 font_size=16,\n",
    "                 width=3,\n",
    "                 edge_color='grey',\n",
    "                 node_color='purple',\n",
    "                 with_labels = False,\n",
    "                 ax=ax)\n",
    "\n",
    "# Create offset labels\n",
    "for key, value in pos.items():\n",
    "    x, y = value[0]+.135, value[1]+.045\n",
    "    ax.text(x, y,\n",
    "            s=key,\n",
    "            bbox=dict(facecolor='red', alpha=0.25),\n",
    "            horizontalalignment='center', fontsize=13)\n",
    "    \n",
    "plt.show()\n",
    "\n",
    "#BURAYI AL\n"
   ]
  },
  {
   "cell_type": "code",
   "execution_count": null,
   "id": "vanilla-singapore",
   "metadata": {},
   "outputs": [],
   "source": []
  },
  {
   "cell_type": "code",
   "execution_count": null,
   "id": "sophisticated-chrome",
   "metadata": {},
   "outputs": [],
   "source": []
  },
  {
   "cell_type": "code",
   "execution_count": null,
   "id": "conservative-ecology",
   "metadata": {},
   "outputs": [],
   "source": []
  }
 ],
 "metadata": {
  "kernelspec": {
   "display_name": "Python 3 (ipykernel)",
   "language": "python",
   "name": "python3"
  },
  "language_info": {
   "codemirror_mode": {
    "name": "ipython",
    "version": 3
   },
   "file_extension": ".py",
   "mimetype": "text/x-python",
   "name": "python",
   "nbconvert_exporter": "python",
   "pygments_lexer": "ipython3",
   "version": "3.8.13"
  }
 },
 "nbformat": 4,
 "nbformat_minor": 5
}
