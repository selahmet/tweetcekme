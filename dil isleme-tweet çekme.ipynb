{
 "cells": [
  {
   "cell_type": "markdown",
   "id": "16fa0f75",
   "metadata": {},
   "source": [
    "pip install snscrape"
   ]
  },
  {
   "cell_type": "code",
   "execution_count": 1,
   "id": "acab9bd4",
   "metadata": {},
   "outputs": [],
   "source": [
    "import os\n",
    "import pandas as pd\n",
    "from datetime import date\n",
    "import snscrape.modules.twitter as sntwitter\n",
    "import numpy as np\n",
    "import csv\n",
    "import matplotlib.pyplot as plt"
   ]
  },
  {
   "cell_type": "code",
   "execution_count": 2,
   "id": "2fd23ed5",
   "metadata": {},
   "outputs": [],
   "source": [
    "# Çekilecek maksimum tweet'i ayarlayın\n",
    "maxTweets = 100"
   ]
  },
  {
   "cell_type": "code",
   "execution_count": 3,
   "id": "4c47f2ba",
   "metadata": {},
   "outputs": [],
   "source": [
    "# Twitter kazıyıcınızın hangi anahtar kelimeleri çekmesini istediğinizi belirleyin\n",
    "#keyword = \"iklim\""
   ]
  },
  {
   "cell_type": "code",
   "execution_count": 5,
   "id": "aca90b95",
   "metadata": {},
   "outputs": [],
   "source": [
    "#Veri eklemek için bir dosya aç/oluştur\n",
    "csvFile = open('1.csv', 'a', newline='', encoding='utf8')"
   ]
  },
  {
   "cell_type": "code",
   "execution_count": 8,
   "id": "ee930f65",
   "metadata": {},
   "outputs": [
    {
     "data": {
      "text/plain": [
       "7"
      ]
     },
     "execution_count": 8,
     "metadata": {},
     "output_type": "execute_result"
    }
   ],
   "source": [
    "#csv yazıcı kullan\n",
    "csvWriter = csv.writer(csvFile)\n",
    "csvWriter.writerow(['tweet',]) #csvWriter.writerow(['id','date','tweet',])"
   ]
  },
  {
   "cell_type": "code",
   "execution_count": 9,
   "id": "6d286e7d",
   "metadata": {},
   "outputs": [],
   "source": [
    "# Tweetleri csv dosyasına yazın\n",
    "for i,tweet in enumerate(sntwitter.TwitterSearchScraper(\"iklim\", \"degisiklik\" + ' lang:\"tr\" since:2022-01-01 until:2022-12-30 -filter:links -filter:replies').get_items()):\n",
    "        if i > maxTweets :\n",
    "            break  \n",
    "        csvWriter.writerow([tweet.content])\n",
    "csvFile.close()"
   ]
  },
  {
   "cell_type": "code",
   "execution_count": 10,
   "id": "1ad9af0b",
   "metadata": {},
   "outputs": [
    {
     "name": "stdout",
     "output_type": "stream",
     "text": [
      "                                                 tweet\n",
      "0    Dalam COP-27 di Mesir, Indonesia menampilkan k...\n",
      "1    Küresel ticaret savaşları ve küresel terörizm ...\n",
      "2    #İyiGündeKötüGünde’nin son bölümü “Antroposen”...\n",
      "3    Dampak yang paling berbahaya itu bukan iklim t...\n",
      "4    @HavaForum İyi de burası tropikal iklim mi? Tü...\n",
      "..                                                 ...\n",
      "198  Puan Maharani menyoroti soal krisis pangan dan...\n",
      "199  şu her tarafa domates püresi fırlatan iklim ak...\n",
      "200  İsin ozunde sermaye sahiplerinin atlari her za...\n",
      "201  naya di lawan wkwkwwk ketawa aja dah https://t...\n",
      "202  ANJAYYY ANJAYY ANJAYYYY WOOOO ANJAYY https://t...\n",
      "\n",
      "[203 rows x 1 columns]\n"
     ]
    },
    {
     "name": "stderr",
     "output_type": "stream",
     "text": [
      "C:\\Users\\alone\\AppData\\Local\\Temp\\ipykernel_19064\\3236957693.py:1: FutureWarning: The error_bad_lines argument has been deprecated and will be removed in a future version. Use on_bad_lines in the future.\n",
      "\n",
      "\n",
      "  df = pd.read_csv('C:/Users/alone/dilisleme/1.csv', engine=\"python\", sep=',', quotechar='\"', error_bad_lines=False)\n"
     ]
    }
   ],
   "source": [
    "df = pd.read_csv('C:/Users/alone/dilisleme/1.csv', engine=\"python\", sep=',', quotechar='\"', error_bad_lines=False)\n",
    "print(df)"
   ]
  },
  {
   "cell_type": "code",
   "execution_count": 8,
   "id": "6d142925",
   "metadata": {},
   "outputs": [
    {
     "data": {
      "text/html": [
       "<div>\n",
       "<style scoped>\n",
       "    .dataframe tbody tr th:only-of-type {\n",
       "        vertical-align: middle;\n",
       "    }\n",
       "\n",
       "    .dataframe tbody tr th {\n",
       "        vertical-align: top;\n",
       "    }\n",
       "\n",
       "    .dataframe thead th {\n",
       "        text-align: right;\n",
       "    }\n",
       "</style>\n",
       "<table border=\"1\" class=\"dataframe\">\n",
       "  <thead>\n",
       "    <tr style=\"text-align: right;\">\n",
       "      <th></th>\n",
       "      <th>tweet</th>\n",
       "    </tr>\n",
       "  </thead>\n",
       "  <tbody>\n",
       "    <tr>\n",
       "      <th>0</th>\n",
       "      <td>Dalam COP-27 di Mesir, Indonesia menampilkan k...</td>\n",
       "    </tr>\n",
       "    <tr>\n",
       "      <th>1</th>\n",
       "      <td>Küresel ticaret savaşları ve küresel terörizm ...</td>\n",
       "    </tr>\n",
       "    <tr>\n",
       "      <th>2</th>\n",
       "      <td>#İyiGündeKötüGünde’nin son bölümü “Antroposen”...</td>\n",
       "    </tr>\n",
       "    <tr>\n",
       "      <th>3</th>\n",
       "      <td>Dampak yang paling berbahaya itu bukan iklim t...</td>\n",
       "    </tr>\n",
       "    <tr>\n",
       "      <th>4</th>\n",
       "      <td>@HavaForum İyi de burası tropikal iklim mi? Tü...</td>\n",
       "    </tr>\n",
       "    <tr>\n",
       "      <th>...</th>\n",
       "      <td>...</td>\n",
       "    </tr>\n",
       "    <tr>\n",
       "      <th>96</th>\n",
       "      <td>kendimi guzel hissettigim her gun babama fotog...</td>\n",
       "    </tr>\n",
       "    <tr>\n",
       "      <th>97</th>\n",
       "      <td>Bak bu mesela gayet mantıklı bir hareket olmuş...</td>\n",
       "    </tr>\n",
       "    <tr>\n",
       "      <th>98</th>\n",
       "      <td>Puan Maharani menyoroti soal krisis pangan dan...</td>\n",
       "    </tr>\n",
       "    <tr>\n",
       "      <th>99</th>\n",
       "      <td>sesuai iklim wkwkkwkwk https://t.co/zKkPzp5R8B</td>\n",
       "    </tr>\n",
       "    <tr>\n",
       "      <th>100</th>\n",
       "      <td>Hollanda’da iklim aktivistleri, özel jetleri e...</td>\n",
       "    </tr>\n",
       "  </tbody>\n",
       "</table>\n",
       "<p>101 rows × 1 columns</p>\n",
       "</div>"
      ],
      "text/plain": [
       "                                                 tweet\n",
       "0    Dalam COP-27 di Mesir, Indonesia menampilkan k...\n",
       "1    Küresel ticaret savaşları ve küresel terörizm ...\n",
       "2    #İyiGündeKötüGünde’nin son bölümü “Antroposen”...\n",
       "3    Dampak yang paling berbahaya itu bukan iklim t...\n",
       "4    @HavaForum İyi de burası tropikal iklim mi? Tü...\n",
       "..                                                 ...\n",
       "96   kendimi guzel hissettigim her gun babama fotog...\n",
       "97   Bak bu mesela gayet mantıklı bir hareket olmuş...\n",
       "98   Puan Maharani menyoroti soal krisis pangan dan...\n",
       "99      sesuai iklim wkwkkwkwk https://t.co/zKkPzp5R8B\n",
       "100  Hollanda’da iklim aktivistleri, özel jetleri e...\n",
       "\n",
       "[101 rows x 1 columns]"
      ]
     },
     "execution_count": 8,
     "metadata": {},
     "output_type": "execute_result"
    }
   ],
   "source": [
    "tweets=df[[\"tweet\"]]\n",
    "tweets"
   ]
  },
  {
   "cell_type": "code",
   "execution_count": 12,
   "id": "7c6219e5",
   "metadata": {},
   "outputs": [],
   "source": [
    "df = pd.read_csv(\"./1.csv\")"
   ]
  },
  {
   "cell_type": "code",
   "execution_count": 14,
   "id": "e2d24a05",
   "metadata": {},
   "outputs": [],
   "source": [
    "df.to_excel(\"tweets.xlsx\",sheet_name=\"tweets\", index=False)"
   ]
  },
  {
   "cell_type": "code",
   "execution_count": null,
   "id": "d4e1ff1f",
   "metadata": {},
   "outputs": [],
   "source": []
  },
  {
   "cell_type": "code",
   "execution_count": null,
   "id": "0829838e",
   "metadata": {},
   "outputs": [],
   "source": []
  },
  {
   "cell_type": "code",
   "execution_count": null,
   "id": "900ee510",
   "metadata": {},
   "outputs": [],
   "source": []
  }
 ],
 "metadata": {
  "kernelspec": {
   "display_name": "Python 3 (ipykernel)",
   "language": "python",
   "name": "python3"
  },
  "language_info": {
   "codemirror_mode": {
    "name": "ipython",
    "version": 3
   },
   "file_extension": ".py",
   "mimetype": "text/x-python",
   "name": "python",
   "nbconvert_exporter": "python",
   "pygments_lexer": "ipython3",
   "version": "3.8.13"
  }
 },
 "nbformat": 4,
 "nbformat_minor": 5
}
